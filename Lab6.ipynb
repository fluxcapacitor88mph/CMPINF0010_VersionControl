{
 "cells": [
  {
   "cell_type": "markdown",
   "metadata": {},
   "source": [
    "CMPINF0010\n",
    "Spring 2024\n",
    "Lab 6 Version Control\n",
    "Group Members: John Lovre (JRL142), Anthony Arshoun (AJA138), Nolan Le (NRL51)"
   ]
  },
  {
   "cell_type": "code",
   "execution_count": 1,
   "metadata": {},
   "outputs": [
    {
     "name": "stdin",
     "output_type": "stream",
     "text": [
      "Enter your name:  tom\n",
      "What do you like to do for fun?  basketball\n"
     ]
    },
    {
     "name": "stdout",
     "output_type": "stream",
     "text": [
      "Hi tom, I'm John. I like to basketball as well.\n"
     ]
    },
    {
     "name": "stdin",
     "output_type": "stream",
     "text": [
      "Where are you from?  Atlantis\n"
     ]
    },
    {
     "name": "stdout",
     "output_type": "stream",
     "text": [
      "I'm Nolan, and I've always wanted to visit Atlantis\n",
      "Hey there! I'm Anthony.\n"
     ]
    },
    {
     "name": "stdin",
     "output_type": "stream",
     "text": [
      "Do you like random numbers?  no\n",
      "Oh ok. Well, what's your favorite number?  7\n"
     ]
    },
    {
     "name": "stdout",
     "output_type": "stream",
     "text": [
      "Cool! My favorite is 13\n"
     ]
    }
   ],
   "source": [
    "import random\n",
    "name = input(\"Enter your name: \")\n",
    "\n",
    "# John's other input\n",
    "hobby = input(\"What do you like to do for fun? \")\n",
    "\n",
    "# John's response\n",
    "print(\"Hi \"+name+\", I'm John. I like to \"+hobby+\" as well.\")\n",
    "\n",
    "# Nolan's other input\n",
    "origin = input(\"Where are you from? \")\n",
    "\n",
    "# Nolan's response\n",
    "print(\"I'm Nolan, and I've always wanted to visit \" + origin)\n",
    "\n",
    "#Anthony's input and response\n",
    "print(\"Hey there! I'm Anthony.\")\n",
    "ans = input(\"Do you like random numbers? \").upper()\n",
    "if (ans == \"YES\" or ans == \"Y\"):\n",
    "    print(\"Nice, so do I! Here's 5 random intergers from 0 to 9:\")\n",
    "    for i in range(5):\n",
    "        print(random.randint(0,9))\n",
    "elif (ans == \"NO\" or ans == \"N\"):\n",
    "    num = input(\"Oh ok. Well, what's your favorite number? \")\n",
    "    try:\n",
    "        if (int(num) == 13):\n",
    "            print(\"No way! Mine's 13 too!\")\n",
    "        else:\n",
    "            print(\"Cool! My favorite is 13\")\n",
    "    except:\n",
    "        print(\"Oh, I didn't realize that was a number\")\n"
   ]
  },
  {
   "cell_type": "code",
   "execution_count": null,
   "metadata": {},
   "outputs": [],
   "source": []
  }
 ],
 "metadata": {
  "kernelspec": {
   "display_name": "Python 3",
   "language": "python",
   "name": "python3"
  },
  "language_info": {
   "codemirror_mode": {
    "name": "ipython",
    "version": 3
   },
   "file_extension": ".py",
   "mimetype": "text/x-python",
   "name": "python",
   "nbconvert_exporter": "python",
   "pygments_lexer": "ipython3",
   "version": "3.8.3"
  }
 },
 "nbformat": 4,
 "nbformat_minor": 4
}
