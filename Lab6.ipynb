{
 "cells": [
  {
   "cell_type": "markdown",
   "metadata": {},
   "source": [
    "CMPINF0010\n",
    "Spring 2024\n",
    "Lab 6 Version Control\n",
    "Group Members: John Lovre (JRL142), <>, <>"
   ]
  },
  {
   "cell_type": "code",
   "execution_count": null,
   "metadata": {},
   "outputs": [
    {
     "name": "stdout",
     "output_type": "stream",
     "text": [
      "Enter your name:  tom\n",
      "What do you like to do for fun?  basketball\n"
     ]
    },
    {
     "name": "stdout",
     "output_type": "stream",
     "text": [
      "Hi tom, I'm John. I like to basketball as well.\n"
     ]
    }
   ],
   "source": [
    "name = input(\"Enter your name: \")\n",
    "\n",
    "# John's other input\n",
    "hobby = input(\"What do you like to do for fun? \")\n",
    "\n",
    "# Nolan's other input\n",
    "origin = input(\"Where are you from? \")\n",
    "\n",
    "#Anthony's other input\n",
    "\n",
    "\n",
    "# John's response\n",
    "print(\"Hi \"+name+\", I'm John. I like to \"+hobby+\" as well.\")\n",
    "\n",
    "# Nolan's response\n",
    "print(\"I'm Nolan, and I've always wanted to visit \" + origin)\n",
    "\n",
    "#Anthony's response\n",
    "\n"
   ]
  },
  {
   "cell_type": "code",
   "execution_count": null,
   "metadata": {},
   "outputs": [],
   "source": []
  }
 ],
 "metadata": {
  "kernelspec": {
   "display_name": "Python 3",
   "language": "python",
   "name": "python3"
  },
  "language_info": {
   "codemirror_mode": {
    "name": "ipython",
    "version": 3
   },
   "file_extension": ".py",
   "mimetype": "text/x-python",
   "name": "python",
   "nbconvert_exporter": "python",
   "pygments_lexer": "ipython3",
   "version": "3.8.3"
  }
 },
 "nbformat": 4,
 "nbformat_minor": 4
}
